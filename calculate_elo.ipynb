{
 "cells": [
  {
   "cell_type": "markdown",
   "id": "e0d68c07-5320-4e7e-8d6a-b1f240c4c691",
   "metadata": {},
   "source": [
    "# How to calculate elo rating in international football with python"
   ]
  },
  {
   "cell_type": "code",
   "execution_count": 24,
   "id": "f80c01a5-7f06-40a2-a3c0-f1df0d3f237a",
   "metadata": {},
   "outputs": [],
   "source": [
    "import pandas as pd\n",
    "import numpy as np\n",
    "import matplotlib.pyplot as plt"
   ]
  },
  {
   "cell_type": "markdown",
   "id": "79ab5f25-ba10-4a2a-9e62-062434589596",
   "metadata": {},
   "source": [
    "## 1. Upload Data\n",
    "This data was found in kaggle"
   ]
  },
  {
   "cell_type": "code",
   "execution_count": 25,
   "id": "fbffcabe-bea3-42d8-b12e-004aefc9c8f1",
   "metadata": {},
   "outputs": [],
   "source": [
    "df = pd.read_csv('Data/results.csv')\n",
    "df=df[['date','home_team','home_score','away_score','away_team','tournament']].sort_values(by='date').dropna()\n"
   ]
  },
  {
   "cell_type": "markdown",
   "id": "33a94162",
   "metadata": {},
   "source": [
    "## 2. Defining functions"
   ]
  },
  {
   "cell_type": "code",
   "execution_count": 26,
   "id": "6ba1de37-831b-4e7c-ba3a-8e2c067ec874",
   "metadata": {
    "tags": []
   },
   "outputs": [],
   "source": [
    "confederation_tournaments=['AFC Asian Cup','African Cup of Nations','UEFA Euro','Copa América','CONCACAF Championship','Oceania Nations Cup']\n",
    "\n",
    "def k_value(tournament):\n",
    "    k=5\n",
    "    if tournament == 'Friendly':\n",
    "        k=10\n",
    "    elif tournament == 'FIFA World Cup qualification':\n",
    "        k=25\n",
    "    elif tournament in confederation_tournaments:\n",
    "        k=40\n",
    "    elif tournament == 'FIFA World Cup':\n",
    "        k=55\n",
    "    return k\n",
    "    \n",
    "def expected_result(loc,aw):\n",
    "    dr=loc-aw\n",
    "    we=(1/(10**(-dr/400)+1))\n",
    "    return [np.round(we,3),1-np.round(we,3)]\n",
    "\n",
    "def actual_result(loc,aw):\n",
    "    if loc<aw:\n",
    "        wa=1\n",
    "        wl=0\n",
    "    elif loc>aw:\n",
    "        wa=0\n",
    "        wl=1\n",
    "    elif loc==aw:\n",
    "        wa=0.5\n",
    "        wl=0.5\n",
    "    return [wl,wa]\n",
    "\n",
    "def calculate_elo(elo_l,elo_v,local_goals,away_goals,tournament):\n",
    "    \n",
    "    k=k_value(tournament)\n",
    "    wl,wv=actual_result(local_goals,away_goals)\n",
    "    wel,wev=expected_result(elo_l,elo_v)\n",
    "\n",
    "    elo_ln=elo_l+k*(wl-wel)\n",
    "    elo_vn=elo_v+k*(wv-wev)\n",
    "\n",
    "    return elo_ln,elo_vn"
   ]
  },
  {
   "cell_type": "markdown",
   "id": "e8093d1a",
   "metadata": {},
   "source": [
    "## 3. Calculate Elo for each match"
   ]
  },
  {
   "cell_type": "code",
   "execution_count": 27,
   "id": "c28bcd8c",
   "metadata": {},
   "outputs": [],
   "source": [
    "current_elo={}\n",
    "for idx,row in df.iterrows():\n",
    "    \n",
    "    local=row['home_team']\n",
    "    away=row['away_team']\n",
    "    local_goals=row['home_score']\n",
    "    away_goals=row['away_score']\n",
    "    tournament = row['tournament']\n",
    "    \n",
    "\n",
    "    if local not in current_elo.keys():\n",
    "        current_elo[local]=1300\n",
    "    \n",
    "    if away not in current_elo.keys():\n",
    "        current_elo[away]=1300\n",
    "    \n",
    "    elo_l=current_elo[local]\n",
    "    elo_v=current_elo[away]\n",
    "    elo_ln,elo_vn=calculate_elo(elo_l,elo_v,local_goals,away_goals,tournament)\n",
    "\n",
    "    current_elo[local]=elo_ln\n",
    "    current_elo[away]=elo_vn\n",
    "    \n",
    "    df.loc[idx,'Elo_h_after']=elo_ln\n",
    "    df.loc[idx,'Elo_a_after']=elo_vn \n",
    "    df.loc[idx,'Elo_h_before']=elo_l\n",
    "    df.loc[idx,'Elo_a_before']=elo_v"
   ]
  },
  {
   "cell_type": "markdown",
   "id": "356a2ae5",
   "metadata": {},
   "source": [
    "## 4. Creating Series of Elo"
   ]
  },
  {
   "cell_type": "code",
   "execution_count": 28,
   "id": "4cc4a323",
   "metadata": {},
   "outputs": [],
   "source": [
    "elos=df[['date','home_team','Elo_h_after']].rename(columns={'home_team':'Team','Elo_h_after':'Elo'}).append(df[['date','away_team','Elo_a_after']].rename(columns={'away_team':'Team','Elo_a_after':'Elo'}))"
   ]
  }
 ],
 "metadata": {
  "interpreter": {
   "hash": "40d3a090f54c6569ab1632332b64b2c03c39dcf918b08424e98f38b5ae0af88f"
  },
  "kernelspec": {
   "display_name": "Python 3.8.8 64-bit ('base': conda)",
   "language": "python",
   "name": "python3"
  },
  "language_info": {
   "codemirror_mode": {
    "name": "ipython",
    "version": 3
   },
   "file_extension": ".py",
   "mimetype": "text/x-python",
   "name": "python",
   "nbconvert_exporter": "python",
   "pygments_lexer": "ipython3",
   "version": "3.8.8"
  }
 },
 "nbformat": 4,
 "nbformat_minor": 5
}
